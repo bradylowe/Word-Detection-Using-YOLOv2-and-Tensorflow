{
 "cells": [
  {
   "cell_type": "markdown",
   "metadata": {},
   "source": [
    "# Convolutional neural network for classifying images of characters using MNIST dataset\n",
    "\n",
    "\n",
    "One very commmon, very important task in the world of processing information is interpreting visual representations of languages. This includes looking at street signs, hand-written documents, typed documents in various fonts, grafitti, etc. \n",
    "\n",
    "The MNIST data set only included the numeric digits 0-9. We can start with these and learn the letters later."
   ]
  },
  {
   "cell_type": "markdown",
   "metadata": {},
   "source": [
    "## Load necessary packages"
   ]
  },
  {
   "cell_type": "code",
   "execution_count": 1,
   "metadata": {},
   "outputs": [],
   "source": [
    "%matplotlib inline\n",
    "import matplotlib.pyplot as plt\n",
    "import tensorflow as tf\n",
    "import numpy as np\n",
    "from sklearn.metrics import confusion_matrix\n",
    "import time\n",
    "from datetime import timedelta\n",
    "import math\n",
    "from scipy import misc\n",
    "import os"
   ]
  },
  {
   "cell_type": "code",
   "execution_count": 2,
   "metadata": {},
   "outputs": [
    {
     "data": {
      "text/plain": [
       "'1.7.0'"
      ]
     },
     "execution_count": 2,
     "metadata": {},
     "output_type": "execute_result"
    }
   ],
   "source": [
    "tf.__version__"
   ]
  },
  {
   "cell_type": "markdown",
   "metadata": {},
   "source": [
    "## Define network architecture\n",
    "\n",
    "The network designed here will be very small, easy to train, and optimized for the MNIST dataset. This dataset has 10 classes of data representing the digits 0-9. \n",
    "\n",
    "The network consists of two convolutional layers for downsampling the images, a fully-connected layer for learning a large number of features from the downsampled image, and a softmax layer for classifying the features vector. \n",
    "\n",
    "For this network, the input layer will expect an array of grayscale images of the shape (n_images, x_pixels, y_pixels, 1), and the number of pixels in both directions will be 28."
   ]
  },
  {
   "cell_type": "code",
   "execution_count": 3,
   "metadata": {},
   "outputs": [],
   "source": [
    "# Convolutional Layer 1.\n",
    "filter_size1 = 5          # Convolution filters are 5 x 5 pixels.\n",
    "num_filters1 = 16         # There are 16 of these filters.\n",
    "\n",
    "# Convolutional Layer 2.\n",
    "filter_size2 = 5          # Convolution filters are 5 x 5 pixels.\n",
    "num_filters2 = 36         # There are 36 of these filters.\n",
    "\n",
    "# Fully-connected layer.\n",
    "fc_size = 128             # Number of neurons in fully-connected layer.\n",
    "\n",
    "num_channels = 1          # Number of color channels in the image\n",
    "num_classes = 62          # Classify digits 0-9, chars A-Z and a-z\n",
    "img_size = 28             # Make images 28 x 28 pixels\n",
    "\n",
    "img_shape = (img_size, img_size)\n",
    "img_size_flat = img_size**2"
   ]
  },
  {
   "cell_type": "markdown",
   "metadata": {},
   "source": [
    "## Loading the MNIST data set using MNIST module\n",
    "\n",
    "It is very easy to load the training and testing images and class labels from the MNIST module. Simply set the directory where the data is stored (if not found, it will be downloaded), and call the respective functions to retreive the data.\n",
    "\n",
    "First, define a helper function or two..."
   ]
  },
  {
   "cell_type": "code",
   "execution_count": 4,
   "metadata": {},
   "outputs": [],
   "source": [
    "def get_one_hots_from_cls(labels, num_classes):\n",
    "    one_hot = np.zeros(shape=[len(labels), num_classes], dtype=np.int)\n",
    "    for idx, label in enumerate(labels):\n",
    "        one_hot[idx][label] = 1\n",
    "    return one_hot"
   ]
  },
  {
   "cell_type": "code",
   "execution_count": 93,
   "metadata": {},
   "outputs": [],
   "source": [
    "# Load\n",
    "mnist.temporary_dir = lambda: 'data/MNIST'\n",
    "# Training images\n",
    "train_images = mnist.train_images()\n",
    "n_train = train_images.shape[0]\n",
    "train_images = train_images.reshape([n_train, img_size, img_size, 1])\n",
    "# Training labels\n",
    "train_labels_cls = mnist.train_labels()\n",
    "train_labels = get_one_hots_from_cls(train_labels_cls)\n",
    "# Test images\n",
    "test_images = mnist.test_images()\n",
    "n_test = test_images.shape[0]\n",
    "test_images = test_images.reshape([-1, img_size, img_size, 1])\n",
    "# Test labels\n",
    "test_labels_cls = mnist.test_labels()\n",
    "test_labels = get_one_hots_from_cls(test_labels_cls)"
   ]
  },
  {
   "cell_type": "markdown",
   "metadata": {},
   "source": [
    "## Load the Chars74K dataset\n",
    "\n",
    "To instread load the Chars74K dataset, we will define some helper functions for grabbing the images from file, creating corresponding label vectors, shuffling, and splitting the data."
   ]
  },
  {
   "cell_type": "code",
   "execution_count": 5,
   "metadata": {},
   "outputs": [],
   "source": [
    "def load_chars74k_package(path, label):\n",
    "    images = []\n",
    "    fnames = os.listdir(path)\n",
    "    for f in fnames: \n",
    "        cur_png = misc.imread(os.path.join(path, f))\n",
    "        cur_png = misc.imresize(cur_png, img_shape)\n",
    "        # Invert image\n",
    "        images.append(255 - cur_png)\n",
    "    labels = [label for item in images]\n",
    "    return np.array(images), np.array(labels)\n",
    "\n",
    "def load_all_chars74k_numeric_fonts():\n",
    "    images = []\n",
    "    labels = []\n",
    "    path = 'data/Chars74K/EnglishFont/Fnt/Sample'\n",
    "    for i in range(1, 11):\n",
    "        if i == 10:\n",
    "            cur_path = path + '0' + str(i)\n",
    "        else:\n",
    "            cur_path = path + '00' + str(i)\n",
    "        for f in os.listdir(cur_path):\n",
    "            cur_png = misc.imread(os.path.join(cur_path, f))\n",
    "            cur_png = misc.imresize(cur_png, img_shape)\n",
    "            # Invert image\n",
    "            images.append(255 - cur_png)\n",
    "            labels.append(i - 1)\n",
    "    return np.array(images), np.array(labels)\n",
    "\n",
    "def load_all_chars74k(load_fonts=True):\n",
    "    images = []\n",
    "    labels = []\n",
    "    if load_fonts:\n",
    "        path = 'data/Chars74K/EnglishFont/Fnt/Sample'\n",
    "    else:\n",
    "        path = 'data/Chars74K/EnglishImg/Img/GoodImg/Bmp/Sample'\n",
    "    for i in range(1, 63):\n",
    "        if i > 9:\n",
    "            cur_path = path + '0' + str(i)\n",
    "        else:\n",
    "            cur_path = path + '00' + str(i)\n",
    "        for f in os.listdir(cur_path):\n",
    "            cur_png = misc.imread(os.path.join(cur_path, f))\n",
    "            cur_png = misc.imresize(cur_png, img_shape)\n",
    "            # Invert image\n",
    "            images.append(255 - cur_png)\n",
    "            labels.append(i - 1)\n",
    "    return np.array(images), np.array(labels)\n",
    "\n",
    "def shuffle_data(x, y, y_cls):\n",
    "    sidx = np.random.permutation(len(x))\n",
    "    x_out, y_out, y_out_cls = [], [], []\n",
    "    for idx in sidx:\n",
    "        x_out.append(x[idx])\n",
    "        y_out.append(y[idx])\n",
    "        y_out_cls.append(y_cls[idx])\n",
    "    return np.array(x_out), np.array(y_out), np.array(y_out_cls)\n",
    "\n",
    "def get_class_char(idx):\n",
    "    if idx < 10:\n",
    "        return str(idx)\n",
    "    elif idx < 36:\n",
    "        return chr(idx + 55)\n",
    "    else:\n",
    "        return chr(idx + 61)"
   ]
  },
  {
   "cell_type": "code",
   "execution_count": 6,
   "metadata": {},
   "outputs": [
    {
     "name": "stderr",
     "output_type": "stream",
     "text": [
      "/home/brady/tf-gpu-36/lib/python3.6/site-packages/ipykernel_launcher.py:42: DeprecationWarning: `imread` is deprecated!\n",
      "`imread` is deprecated in SciPy 1.0.0, and will be removed in 1.2.0.\n",
      "Use ``imageio.imread`` instead.\n",
      "/home/brady/tf-gpu-36/lib/python3.6/site-packages/ipykernel_launcher.py:43: DeprecationWarning: `imresize` is deprecated!\n",
      "`imresize` is deprecated in SciPy 1.0.0, and will be removed in 1.3.0.\n",
      "Use Pillow instead: ``numpy.array(Image.fromarray(arr).resize())``.\n"
     ]
    }
   ],
   "source": [
    "# Load\n",
    "train_images, train_labels_cls = load_all_chars74k()\n",
    "train_labels = get_one_hots_from_cls(train_labels_cls, num_classes)\n",
    "# Shuffle\n",
    "train_images, train_labels, train_labels_cls = \\\n",
    "    shuffle_data(train_images, train_labels, train_labels_cls)\n",
    "# Reshape\n",
    "train_images = train_images.reshape([-1, img_size, img_size, 1])\n",
    "\n",
    "# Split\n",
    "test_split = 0.2\n",
    "n_train = int(train_images.shape[0] * (1.0 - test_split))\n",
    "n_test = train_images.shape[0] - n_train\n",
    "\n",
    "test_images = train_images[:n_test]\n",
    "test_labels = train_labels[:n_test]\n",
    "test_labels_cls = train_labels_cls[:n_test]\n",
    "\n",
    "train_images = train_images[n_test:]\n",
    "train_labels = train_labels[n_test:]\n",
    "train_labels_cls = train_labels_cls[n_test:]"
   ]
  },
  {
   "cell_type": "markdown",
   "metadata": {},
   "source": [
    "### Print size info"
   ]
  },
  {
   "cell_type": "code",
   "execution_count": 7,
   "metadata": {},
   "outputs": [
    {
     "name": "stdout",
     "output_type": "stream",
     "text": [
      "Size of:\n",
      " - Training set:\t50393\n",
      " - Testing set:\t\t12599\n",
      " - Images shape: \t(50393, 28, 28, 1)\n",
      " - Labels shape: \t(50393, 62)\n"
     ]
    }
   ],
   "source": [
    "print(\"Size of:\")\n",
    "print(\" - Training set:\\t\" + str(n_train))\n",
    "print(\" - Testing set:\\t\\t\" + str(n_test))\n",
    "print(\" - Images shape: \\t\" + str(train_images.shape))\n",
    "print(\" - Labels shape: \\t\" + str(train_labels.shape))"
   ]
  },
  {
   "cell_type": "markdown",
   "metadata": {},
   "source": [
    "## Plot some images using helper function"
   ]
  },
  {
   "cell_type": "code",
   "execution_count": 8,
   "metadata": {},
   "outputs": [],
   "source": [
    "def plot_images(images, cls_true, cls_pred=None):\n",
    "    assert len(images) == len(cls_true) == 9\n",
    "    \n",
    "    # Create figure with 3x3 sub-plots.\n",
    "    fig, axes = plt.subplots(3, 3)\n",
    "    fig.subplots_adjust(hspace=0.3, wspace=0.3)\n",
    "\n",
    "    for i, ax in enumerate(axes.flat):\n",
    "        # Plot image.\n",
    "        ax.imshow(images[i].reshape(img_shape), cmap='binary')\n",
    "\n",
    "        # Show true and predicted classes.\n",
    "        if cls_pred is None:\n",
    "            xlabel = \"True: {0}\".format(get_class_char(cls_true[i]))\n",
    "        else:\n",
    "            xlabel = \"True: {0}, Pred: {1}\".format(get_class_char(cls_true[i]), \n",
    "                                                   get_class_char(cls_pred[i]))\n",
    "\n",
    "        # Show the classes as the label on the x-axis.\n",
    "        ax.set_xlabel(xlabel)\n",
    "        \n",
    "        # Remove ticks from the plot.\n",
    "        ax.set_xticks([])\n",
    "        ax.set_yticks([])\n",
    "    \n",
    "    # Ensure the plot is shown correctly with multiple plots\n",
    "    # in a single Notebook cell.\n",
    "    plt.show()"
   ]
  },
  {
   "cell_type": "code",
   "execution_count": 9,
   "metadata": {},
   "outputs": [
    {
     "data": {
      "image/png": "[encoded data removed]",
      "text/plain": [
       "<Figure size 432x288 with 9 Axes>"
      ]
     },
     "metadata": {},
     "output_type": "display_data"
    }
   ],
   "source": [
    "# Get the first images from the test-set.\n",
    "index = np.random.randint(n_test)\n",
    "images = test_images[index:index+9]\n",
    "\n",
    "# Get the true classes for those images.\n",
    "cls_true = test_labels_cls[index:index+9]\n",
    "\n",
    "# Plot the images and labels using our helper-function above.\n",
    "plot_images(images=images, cls_true=cls_true)"
   ]
  },
  {
   "cell_type": "markdown",
   "metadata": {},
   "source": [
    "## Define helper functions for the network\n",
    "\n",
    "Neural networks are complex things with many degrees of freedom. There are a few functions that we must perform repeatedly that take many inputs. With helper functions, we can hard-code some things and reduce the number of inputs to make the problem easier to manage."
   ]
  },
  {
   "cell_type": "code",
   "execution_count": 10,
   "metadata": {},
   "outputs": [],
   "source": [
    "def new_weights(shape):\n",
    "    return tf.Variable(tf.truncated_normal(shape, stddev=0.05))"
   ]
  },
  {
   "cell_type": "code",
   "execution_count": 11,
   "metadata": {},
   "outputs": [],
   "source": [
    "def new_biases(length):\n",
    "    return tf.Variable(tf.constant(0.05, shape=[length]))"
   ]
  },
  {
   "cell_type": "code",
   "execution_count": 12,
   "metadata": {},
   "outputs": [],
   "source": [
    "def new_conv_layer(input,              # The previous layer.\n",
    "                   num_input_channels, # Num. channels in prev. layer.\n",
    "                   filter_size,        # Width and height of each filter.\n",
    "                   num_filters,        # Number of filters.\n",
    "                   use_pooling=True):  # Use 2x2 max-pooling.\n",
    "    \n",
    "    shape = [filter_size, filter_size, num_input_channels, num_filters]\n",
    "    weights = new_weights(shape=shape)\n",
    "    biases = new_biases(length=num_filters)\n",
    "    layer = tf.nn.conv2d(input=input,\n",
    "                         filter=weights,\n",
    "                         strides=[1, 1, 1, 1],\n",
    "                         padding='SAME')\n",
    "    layer += biases\n",
    "    if use_pooling:\n",
    "        layer = tf.nn.max_pool(value=layer,\n",
    "                               ksize=[1, 2, 2, 1],\n",
    "                               strides=[1, 2, 2, 1],\n",
    "                               padding='SAME')\n",
    "    layer = tf.nn.relu(layer)\n",
    "    return layer, weights"
   ]
  },
  {
   "cell_type": "code",
   "execution_count": 13,
   "metadata": {},
   "outputs": [],
   "source": [
    "def flatten_layer(layer):\n",
    "    layer_shape = layer.get_shape()\n",
    "    num_features = layer_shape[1:4].num_elements()\n",
    "    layer_flat = tf.reshape(layer, [-1, num_features])\n",
    "    return layer_flat, num_features"
   ]
  },
  {
   "cell_type": "code",
   "execution_count": 14,
   "metadata": {},
   "outputs": [],
   "source": [
    "def new_fc_layer(input, num_inputs, num_outputs, use_relu=True):\n",
    "    weights = new_weights(shape=[num_inputs, num_outputs])\n",
    "    biases = new_biases(length=num_outputs)\n",
    "    layer = tf.matmul(input, weights) + biases\n",
    "    if use_relu:\n",
    "        layer = tf.nn.relu(layer)\n",
    "    return layer"
   ]
  },
  {
   "cell_type": "markdown",
   "metadata": {},
   "source": [
    "## Create TensorFlow input and output\n",
    "\n",
    "We need to now create the Tensorflow variables and graph. This included placeholders for the inputs (images array and one-hot labels array), as well as a computation we want performed (the network). \n",
    "\n",
    " - The input image placeholder is called x_image\n",
    " - The input labels placeholder is called y_true\n",
    " - The final output computation is called y_pred\n",
    "    * y_pred is the final output activations from the softmax layer of the network."
   ]
  },
  {
   "cell_type": "code",
   "execution_count": 15,
   "metadata": {},
   "outputs": [],
   "source": [
    "#x = tf.placeholder(tf.float32, shape=[None, img_size_flat], name='x')\n",
    "#x_image = tf.reshape(x, [-1, img_size, img_size, num_channels])\n",
    "x_image = tf.placeholder(tf.float32, shape=[None, img_size, img_size, 1], name='x_image')\n",
    "y_true = tf.placeholder(tf.float32, shape=[None, num_classes], name='y_true')\n",
    "y_true_cls = tf.argmax(y_true, axis=1)"
   ]
  },
  {
   "cell_type": "code",
   "execution_count": 16,
   "metadata": {},
   "outputs": [],
   "source": [
    "layer_conv1, weights_conv1 = \\\n",
    "    new_conv_layer(input=x_image,\n",
    "                   num_input_channels=num_channels,\n",
    "                   filter_size=filter_size1,\n",
    "                   num_filters=num_filters1,\n",
    "                   use_pooling=True)\n",
    "\n",
    "layer_conv2, weights_conv2 = \\\n",
    "    new_conv_layer(input=layer_conv1,\n",
    "                   num_input_channels=num_filters1,\n",
    "                   filter_size=filter_size2,\n",
    "                   num_filters=num_filters2,\n",
    "                   use_pooling=True)\n",
    "\n",
    "layer_flat, num_features = flatten_layer(layer_conv2)\n",
    "\n",
    "layer_fc1 = new_fc_layer(input=layer_flat,\n",
    "                         num_inputs=num_features,\n",
    "                         num_outputs=fc_size,\n",
    "                         use_relu=True)\n",
    "\n",
    "layer_fc2 = new_fc_layer(input=layer_fc1,\n",
    "                         num_inputs=fc_size,\n",
    "                         num_outputs=num_classes,\n",
    "                         use_relu=False)\n",
    "\n",
    "y_pred = tf.nn.softmax(layer_fc2)\n",
    "\n",
    "y_pred_cls = tf.argmax(y_pred, axis=1)"
   ]
  },
  {
   "cell_type": "markdown",
   "metadata": {},
   "source": [
    "## Tell Tensorflow how to create the output from input\n",
    "\n",
    "When we give tensorflow a set of images vectors, a set of label vectors, and a computation graph, we have given it everything it needs to find a mapping from image to label; however, there are many ways to find this mapping. \n",
    "\n",
    "Of course you have heard of gradient descent. We define a loss function which has a value of zero when the prediction is equal to the true label. We will use AdamOptimizer as our gradient descent algorithm. Now we have told Tensorflow the inputs, the outputs, how to make predictions, and how to get good at making predictions."
   ]
  },
  {
   "cell_type": "code",
   "execution_count": 17,
   "metadata": {},
   "outputs": [
    {
     "name": "stdout",
     "output_type": "stream",
     "text": [
      "WARNING:tensorflow:From <ipython-input-17-3c016caf98ee>:2: softmax_cross_entropy_with_logits (from tensorflow.python.ops.nn_ops) is deprecated and will be removed in a future version.\n",
      "Instructions for updating:\n",
      "\n",
      "Future major versions of TensorFlow will allow gradients to flow\n",
      "into the labels input on backprop by default.\n",
      "\n",
      "See tf.nn.softmax_cross_entropy_with_logits_v2.\n",
      "\n"
     ]
    }
   ],
   "source": [
    "cross_entropy = tf.nn.softmax_cross_entropy_with_logits(logits=layer_fc2,\n",
    "                                                        labels=y_true)\n",
    "cost = tf.reduce_mean(cross_entropy)\n",
    "optimizer = tf.train.AdamOptimizer(learning_rate=1e-4).minimize(cost)\n",
    "\n",
    "correct_prediction = tf.equal(y_pred_cls, y_true_cls)\n",
    "accuracy = tf.reduce_mean(tf.cast(correct_prediction, tf.float32))"
   ]
  },
  {
   "cell_type": "markdown",
   "metadata": {},
   "source": [
    "## Create a Tensorflow session\n",
    "\n",
    "Tensorflow is not doing anything yet. We have created some Tensorflow structures, but no computuation has been performed. We were just at the drawing board having a discussion.\n",
    "\n",
    "Now, let's fire up the Tensorflow computation engine, initialize all the variables we had \"discussed\" before, and perform the planned computations."
   ]
  },
  {
   "cell_type": "code",
   "execution_count": 18,
   "metadata": {},
   "outputs": [],
   "source": [
    "session = tf.Session()"
   ]
  },
  {
   "cell_type": "code",
   "execution_count": 19,
   "metadata": {},
   "outputs": [],
   "source": [
    "session.run(tf.global_variables_initializer())"
   ]
  },
  {
   "cell_type": "markdown",
   "metadata": {},
   "source": [
    "### More helper functions for optimization, evaluation, and printing\n",
    "\n",
    "Now that we have a \"session\" defined and running, we will write a couple more helper functions that use a reference to that session. These helper functions will actually call on tensorflow to compute predictions given input (and sometimes, perform optimization)"
   ]
  },
  {
   "cell_type": "code",
   "execution_count": 20,
   "metadata": {},
   "outputs": [],
   "source": [
    "def get_random_batch(x, y, batch_size):\n",
    "    sidx = np.random.permutation(len(x))\n",
    "    x_out, y_out = [], []\n",
    "    for i in range(batch_size):\n",
    "        x_out.append(x[sidx[i]])\n",
    "        y_out.append(y[sidx[i]])\n",
    "    return np.array(x_out), np.array(y_out)"
   ]
  },
  {
   "cell_type": "code",
   "execution_count": 21,
   "metadata": {},
   "outputs": [],
   "source": [
    "total_iterations = 0"
   ]
  },
  {
   "cell_type": "code",
   "execution_count": 22,
   "metadata": {},
   "outputs": [],
   "source": [
    "train_batch_size = 64\n",
    "\n",
    "def optimize(num_iterations):\n",
    "    global total_iterations\n",
    "    start_time = time.time()\n",
    "\n",
    "    for i in range(total_iterations,\n",
    "                   total_iterations + num_iterations):\n",
    "        x_batch, y_true_batch = \\\n",
    "            get_random_batch(train_images, train_labels, train_batch_size)\n",
    "        feed_dict_train = {x_image: x_batch,\n",
    "                           y_true: y_true_batch}\n",
    "        session.run(optimizer, feed_dict=feed_dict_train)\n",
    "        \n",
    "        if i % 100 == 0:\n",
    "            acc = session.run(accuracy, feed_dict=feed_dict_train)\n",
    "            msg = \"Optimization Iteration: {0:>6}, Training Accuracy: {1:>6.1%}\"\n",
    "            print(msg.format(i + 1, acc))\n",
    "            \n",
    "            \n",
    "    total_iterations += num_iterations\n",
    "    end_time = time.time()\n",
    "    time_dif = end_time - start_time\n",
    "    print(\"Time usage: \" + str(timedelta(seconds=int(round(time_dif)))))"
   ]
  },
  {
   "cell_type": "code",
   "execution_count": 23,
   "metadata": {},
   "outputs": [],
   "source": [
    "def plot_example_errors(cls_pred, cls_true, images):\n",
    "    incorrect = (cls_pred != cls_true)\n",
    "    images = images[incorrect]\n",
    "    cls_pred = cls_pred[incorrect]\n",
    "    cls_true = cls_true[incorrect]\n",
    "    plot_images(images=images[0:9], \n",
    "                cls_true=cls_true[0:9], \n",
    "                cls_pred=cls_pred[0:9])"
   ]
  },
  {
   "cell_type": "code",
   "execution_count": 24,
   "metadata": {},
   "outputs": [],
   "source": [
    "def plot_confusion_matrix(cls_pred, cls_true):\n",
    "    cm = confusion_matrix(y_true=cls_true,\n",
    "                          y_pred=cls_pred)\n",
    "    print(cm)\n",
    "    plt.matshow(cm)\n",
    "    plt.colorbar()\n",
    "    tick_marks = np.arange(num_classes)\n",
    "    plt.xticks(tick_marks, range(num_classes))\n",
    "    plt.yticks(tick_marks, range(num_classes))\n",
    "    plt.xlabel('Predicted')\n",
    "    plt.ylabel('True')\n",
    "    plt.show()"
   ]
  },
  {
   "cell_type": "code",
   "execution_count": 25,
   "metadata": {},
   "outputs": [],
   "source": [
    "def print_accuracy(pred_labels, true_labels):\n",
    "    n_images = pred_labels.shape[0]\n",
    "    correct = (pred_labels == true_labels)\n",
    "    correct_sum = correct.sum()\n",
    "    acc = float(correct_sum) / n_images\n",
    "    msg = \"Accuracy on Test-Set: {0:.1%} ({1} / {2})\"\n",
    "    print(msg.format(acc, correct_sum, n_images))"
   ]
  },
  {
   "cell_type": "code",
   "execution_count": 26,
   "metadata": {},
   "outputs": [],
   "source": [
    "def predict(images, labels):\n",
    "    feed_dict = {x_image: images,\n",
    "                 y_true: labels}\n",
    "    return session.run(y_pred_cls, feed_dict=feed_dict)"
   ]
  },
  {
   "cell_type": "code",
   "execution_count": 27,
   "metadata": {},
   "outputs": [],
   "source": [
    "def predict_in_batches(images, labels, batch_size = 64):\n",
    "    n_images = images.shape[0]\n",
    "    cls_pred = np.zeros(shape=n_images, dtype=np.int)\n",
    "    i = 0\n",
    "    while i < n_test:\n",
    "        j = min(i + batch_size, n_images)\n",
    "        cls_pred[i:j] = predict(images[i:j], labels[i:j])\n",
    "        i = j\n",
    "    return cls_pred"
   ]
  },
  {
   "cell_type": "code",
   "execution_count": 28,
   "metadata": {},
   "outputs": [],
   "source": [
    "def evaluate_model():\n",
    "    print_accuracy(test_predictions, test_labels_cls)\n",
    "    plot_example_errors(test_predictions, test_labels_cls, test_images)\n",
    "    plot_confusion_matrix(test_predictions, test_labels_cls)"
   ]
  },
  {
   "cell_type": "markdown",
   "metadata": {},
   "source": [
    "## Update the weights using the optimizer\n",
    "\n",
    "The job of the optimizer is to optimize the value of the weights in each layer so that the computation graph results in the correct label for the given input.\n",
    "\n",
    "Run the optimizer for some number of iteration. The model learns very quickly (under 100 iterations) how to correctly classify images at least 80% of the time. It takes a bit longer (over 1,000 iterations) to drive that accuracy up to 98%. \n",
    "\n",
    "Optimizing the hyper-parameters (changing model architecture, optimiziation algorithm, using regularization, changing data input, etc.) can help get the accuracy above 99%."
   ]
  },
  {
   "cell_type": "code",
   "execution_count": 29,
   "metadata": {},
   "outputs": [
    {
     "name": "stdout",
     "output_type": "stream",
     "text": [
      "Accuracy on Test-Set: 1.8% (224 / 12599)\n"
     ]
    }
   ],
   "source": [
    "test_predictions = predict_in_batches(test_images, test_labels)\n",
    "print_accuracy(test_predictions, test_labels_cls)"
   ]
  },
  {
   "cell_type": "code",
   "execution_count": 33,
   "metadata": {},
   "outputs": [
    {
     "name": "stdout",
     "output_type": "stream",
     "text": [
      "Optimization Iteration:   1101, Training Accuracy:  70.3%\n",
      "Optimization Iteration:   1201, Training Accuracy:  81.2%\n",
      "Optimization Iteration:   1301, Training Accuracy:  76.6%\n",
      "Optimization Iteration:   1401, Training Accuracy:  87.5%\n",
      "Optimization Iteration:   1501, Training Accuracy:  79.7%\n",
      "Optimization Iteration:   1601, Training Accuracy:  85.9%\n",
      "Optimization Iteration:   1701, Training Accuracy:  75.0%\n",
      "Optimization Iteration:   1801, Training Accuracy:  81.2%\n",
      "Optimization Iteration:   1901, Training Accuracy:  85.9%\n",
      "Optimization Iteration:   2001, Training Accuracy:  89.1%\n",
      "Optimization Iteration:   2101, Training Accuracy:  89.1%\n",
      "Optimization Iteration:   2201, Training Accuracy:  92.2%\n",
      "Optimization Iteration:   2301, Training Accuracy:  71.9%\n",
      "Optimization Iteration:   2401, Training Accuracy:  84.4%\n",
      "Optimization Iteration:   2501, Training Accuracy:  87.5%\n",
      "Optimization Iteration:   2601, Training Accuracy:  82.8%\n",
      "Optimization Iteration:   2701, Training Accuracy:  87.5%\n",
      "Optimization Iteration:   2801, Training Accuracy:  92.2%\n",
      "Optimization Iteration:   2901, Training Accuracy:  92.2%\n",
      "Optimization Iteration:   3001, Training Accuracy:  76.6%\n",
      "Optimization Iteration:   3101, Training Accuracy:  89.1%\n",
      "Optimization Iteration:   3201, Training Accuracy:  90.6%\n",
      "Optimization Iteration:   3301, Training Accuracy:  87.5%\n",
      "Optimization Iteration:   3401, Training Accuracy:  90.6%\n",
      "Optimization Iteration:   3501, Training Accuracy:  89.1%\n",
      "Optimization Iteration:   3601, Training Accuracy:  89.1%\n",
      "Optimization Iteration:   3701, Training Accuracy:  82.8%\n",
      "Optimization Iteration:   3801, Training Accuracy:  89.1%\n",
      "Optimization Iteration:   3901, Training Accuracy:  95.3%\n",
      "Optimization Iteration:   4001, Training Accuracy:  87.5%\n",
      "Optimization Iteration:   4101, Training Accuracy:  90.6%\n",
      "Optimization Iteration:   4201, Training Accuracy:  90.6%\n",
      "Optimization Iteration:   4301, Training Accuracy:  89.1%\n",
      "Optimization Iteration:   4401, Training Accuracy:  90.6%\n",
      "Optimization Iteration:   4501, Training Accuracy:  87.5%\n",
      "Optimization Iteration:   4601, Training Accuracy:  93.8%\n",
      "Optimization Iteration:   4701, Training Accuracy:  90.6%\n",
      "Optimization Iteration:   4801, Training Accuracy:  89.1%\n",
      "Optimization Iteration:   4901, Training Accuracy:  92.2%\n",
      "Optimization Iteration:   5001, Training Accuracy:  87.5%\n",
      "Optimization Iteration:   5101, Training Accuracy:  89.1%\n",
      "Optimization Iteration:   5201, Training Accuracy:  98.4%\n",
      "Optimization Iteration:   5301, Training Accuracy:  90.6%\n",
      "Optimization Iteration:   5401, Training Accuracy:  95.3%\n",
      "Optimization Iteration:   5501, Training Accuracy:  90.6%\n",
      "Optimization Iteration:   5601, Training Accuracy:  89.1%\n",
      "Optimization Iteration:   5701, Training Accuracy:  90.6%\n",
      "Optimization Iteration:   5801, Training Accuracy:  90.6%\n",
      "Optimization Iteration:   5901, Training Accuracy:  89.1%\n",
      "Optimization Iteration:   6001, Training Accuracy:  96.9%\n",
      "Optimization Iteration:   6101, Training Accuracy:  93.8%\n",
      "Optimization Iteration:   6201, Training Accuracy:  92.2%\n",
      "Optimization Iteration:   6301, Training Accuracy:  85.9%\n",
      "Optimization Iteration:   6401, Training Accuracy:  84.4%\n",
      "Optimization Iteration:   6501, Training Accuracy:  76.6%\n",
      "Optimization Iteration:   6601, Training Accuracy:  89.1%\n",
      "Optimization Iteration:   6701, Training Accuracy:  85.9%\n",
      "Optimization Iteration:   6801, Training Accuracy:  92.2%\n",
      "Optimization Iteration:   6901, Training Accuracy:  89.1%\n",
      "Optimization Iteration:   7001, Training Accuracy:  87.5%\n",
      "Optimization Iteration:   7101, Training Accuracy:  90.6%\n",
      "Optimization Iteration:   7201, Training Accuracy:  95.3%\n",
      "Optimization Iteration:   7301, Training Accuracy:  95.3%\n",
      "Optimization Iteration:   7401, Training Accuracy:  90.6%\n",
      "Optimization Iteration:   7501, Training Accuracy:  96.9%\n",
      "Optimization Iteration:   7601, Training Accuracy:  95.3%\n",
      "Optimization Iteration:   7701, Training Accuracy:  85.9%\n",
      "Optimization Iteration:   7801, Training Accuracy:  95.3%\n",
      "Optimization Iteration:   7901, Training Accuracy:  93.8%\n",
      "Optimization Iteration:   8001, Training Accuracy:  90.6%\n",
      "Optimization Iteration:   8101, Training Accuracy:  95.3%\n",
      "Optimization Iteration:   8201, Training Accuracy:  92.2%\n",
      "Optimization Iteration:   8301, Training Accuracy:  95.3%\n",
      "Optimization Iteration:   8401, Training Accuracy:  90.6%\n",
      "Optimization Iteration:   8501, Training Accuracy:  93.8%\n",
      "Optimization Iteration:   8601, Training Accuracy:  93.8%\n",
      "Optimization Iteration:   8701, Training Accuracy:  93.8%\n",
      "Optimization Iteration:   8801, Training Accuracy:  92.2%\n",
      "Optimization Iteration:   8901, Training Accuracy:  93.8%\n",
      "Optimization Iteration:   9001, Training Accuracy:  89.1%\n",
      "Optimization Iteration:   9101, Training Accuracy:  93.8%\n",
      "Optimization Iteration:   9201, Training Accuracy:  89.1%\n",
      "Optimization Iteration:   9301, Training Accuracy:  95.3%\n",
      "Optimization Iteration:   9401, Training Accuracy:  96.9%\n",
      "Optimization Iteration:   9501, Training Accuracy:  92.2%\n",
      "Optimization Iteration:   9601, Training Accuracy:  95.3%\n",
      "Optimization Iteration:   9701, Training Accuracy:  92.2%\n",
      "Optimization Iteration:   9801, Training Accuracy:  87.5%\n",
      "Optimization Iteration:   9901, Training Accuracy:  96.9%\n",
      "Optimization Iteration:  10001, Training Accuracy:  95.3%\n",
      "Optimization Iteration:  10101, Training Accuracy:  96.9%\n",
      "Optimization Iteration:  10201, Training Accuracy:  96.9%\n",
      "Optimization Iteration:  10301, Training Accuracy:  95.3%\n",
      "Optimization Iteration:  10401, Training Accuracy:  93.8%\n",
      "Optimization Iteration:  10501, Training Accuracy:  92.2%\n",
      "Optimization Iteration:  10601, Training Accuracy:  92.2%\n",
      "Optimization Iteration:  10701, Training Accuracy:  93.8%\n",
      "Optimization Iteration:  10801, Training Accuracy:  90.6%\n",
      "Optimization Iteration:  10901, Training Accuracy:  98.4%\n",
      "Optimization Iteration:  11001, Training Accuracy:  92.2%\n",
      "Time usage: 0:04:22\n"
     ]
    }
   ],
   "source": [
    "optimize(num_iterations=10000)"
   ]
  },
  {
   "cell_type": "code",
   "execution_count": 34,
   "metadata": {},
   "outputs": [
    {
     "name": "stdout",
     "output_type": "stream",
     "text": [
      "Accuracy on Test-Set: 88.5% (11144 / 12599)\n"
     ]
    },
    {
     "data": {
      "image/png": "[encoded data removed]",
      "text/plain": [
       "<Figure size 432x288 with 9 Axes>"
      ]
     },
     "metadata": {},
     "output_type": "display_data"
    },
    {
     "name": "stdout",
     "output_type": "stream",
     "text": [
      "[[180   0   0 ...   0   0   0]\n",
      " [  0 204   0 ...   0   0   1]\n",
      " [  0   1 200 ...   0   0   0]\n",
      " ...\n",
      " [  0   0   0 ... 146   0   1]\n",
      " [  0   0   0 ...   0 187   0]\n",
      " [  0   0   0 ...   1   0 187]]\n"
     ]
    },
    {
     "data": {
      "image/png": "[encoded data removed]",
      "text/plain": [
       "<Figure size 288x288 with 2 Axes>"
      ]
     },
     "metadata": {
      "needs_background": "light"
     },
     "output_type": "display_data"
    }
   ],
   "source": [
    "test_predictions = predict_in_batches(test_images, test_labels)\n",
    "evaluate_model()"
   ]
  },
  {
   "cell_type": "markdown",
   "metadata": {},
   "source": [
    "## Take a look under the hood\n",
    "\n",
    "What does the neural network see? What does it pay attention to? Is it looking for lines, curves, loops? Is it only performing so well because of some bias in the data set? \n",
    "\n",
    "The model takes in 784 numbers (28 x 28 x 1) and from those numbers chooses 128 numbers that contain all the important information for classifying the input.\n",
    "\n",
    "Convolutional layers slide from side to side, top to bottom over input images and create a smaller output image. By looking at what comes out of the first layer and into the second, perhaps we will gain insight into the strengths and weaknesses of the model and understand its performance."
   ]
  },
  {
   "cell_type": "code",
   "execution_count": 118,
   "metadata": {},
   "outputs": [],
   "source": [
    "def plot_conv_weights(weights, input_channel=0):\n",
    "    w = session.run(weights)\n",
    "    w_min = np.min(w)\n",
    "    w_max = np.max(w)\n",
    "    num_filters = w.shape[3]\n",
    "    num_grids = math.ceil(math.sqrt(num_filters))\n",
    "    fig, axes = plt.subplots(num_grids, num_grids)\n",
    "    \n",
    "    for i, ax in enumerate(axes.flat):\n",
    "        if i < num_filters:\n",
    "            img = w[:, :, input_channel, i]\n",
    "            ax.imshow(img, vmin=w_min, vmax=w_max,\n",
    "                     interpolation='nearest', cmap='seismic')\n",
    "        ax.set_xticks([])\n",
    "        ax.set_yticks([])\n",
    "    plt.show()"
   ]
  },
  {
   "cell_type": "code",
   "execution_count": 119,
   "metadata": {},
   "outputs": [],
   "source": [
    "def plot_conv_layer(layer, image):\n",
    "    feed_dict = {x_image: [image]}\n",
    "    values = session.run(layer, feed_dict=feed_dict)\n",
    "    num_filters = values.shape[3]\n",
    "    num_grids = math.ceil(math.sqrt(num_filters))\n",
    "    fig, axes = plt.subplots(num_grids, num_grids)\n",
    "    \n",
    "    for i, ax in enumerate(axes.flat):\n",
    "        if i < num_filters:\n",
    "            img = values[0, :, :, i]\n",
    "            ax.imshow(img, interpolation='nearest', cmap='binary')\n",
    "        ax.set_xticks([])\n",
    "        ax.set_yticks([])\n",
    "    plt.show()"
   ]
  },
  {
   "cell_type": "code",
   "execution_count": 109,
   "metadata": {},
   "outputs": [],
   "source": [
    "def plot_image(image):\n",
    "    plt.imshow(image.reshape(img_shape), interpolation='nearest', cmap='binary')\n",
    "    plt.show()"
   ]
  },
  {
   "cell_type": "code",
   "execution_count": 120,
   "metadata": {},
   "outputs": [
    {
     "data": {
      "image/png": "[encoded data removed]",
      "text/plain": [
       "<Figure size 432x288 with 1 Axes>"
      ]
     },
     "metadata": {
      "needs_background": "light"
     },
     "output_type": "display_data"
    }
   ],
   "source": [
    "index = 216\n",
    "image = test_images[index]\n",
    "label = test_labels_cls[index]\n",
    "plot_image(image)"
   ]
  },
  {
   "cell_type": "code",
   "execution_count": 121,
   "metadata": {},
   "outputs": [
    {
     "data": {
      "image/png": "[encoded data removed]",
      "text/plain": [
       "<Figure size 432x288 with 16 Axes>"
      ]
     },
     "metadata": {},
     "output_type": "display_data"
    }
   ],
   "source": [
    "plot_conv_weights(weights=weights_conv1)"
   ]
  },
  {
   "cell_type": "code",
   "execution_count": 122,
   "metadata": {},
   "outputs": [
    {
     "data": {
      "image/png": "[encoded data removed]",
      "text/plain": [
       "<Figure size 432x288 with 16 Axes>"
      ]
     },
     "metadata": {},
     "output_type": "display_data"
    }
   ],
   "source": [
    "plot_conv_layer(layer=layer_conv1, image=image)"
   ]
  },
  {
   "cell_type": "code",
   "execution_count": 123,
   "metadata": {},
   "outputs": [
    {
     "data": {
      "image/png": "[encoded data removed]",
      "text/plain": [
       "<Figure size 432x288 with 36 Axes>"
      ]
     },
     "metadata": {},
     "output_type": "display_data"
    }
   ],
   "source": [
    "plot_conv_weights(weights=weights_conv2, input_channel=2)"
   ]
  },
  {
   "cell_type": "code",
   "execution_count": 124,
   "metadata": {},
   "outputs": [
    {
     "data": {
      "image/png": "[encoded data removed]",
      "text/plain": [
       "<Figure size 432x288 with 36 Axes>"
      ]
     },
     "metadata": {},
     "output_type": "display_data"
    }
   ],
   "source": [
    "plot_conv_layer(layer=layer_conv2, image=image)"
   ]
  },
  {
   "cell_type": "code",
   "execution_count": 115,
   "metadata": {},
   "outputs": [
    {
     "data": {
      "image/png": "[encoded data removed]",
      "text/plain": [
       "<Figure size 432x288 with 1 Axes>"
      ]
     },
     "metadata": {
      "needs_background": "light"
     },
     "output_type": "display_data"
    },
    {
     "name": "stdout",
     "output_type": "stream",
     "text": [
      "Index: \t\t14509\n",
      "Prediction: \t35\n",
      "Label: \t\t61\n"
     ]
    }
   ],
   "source": [
    "index = np.random.randint(n_train)\n",
    "image = train_images[index]\n",
    "label = train_labels_cls[index]\n",
    "plot_image(image)\n",
    "\n",
    "print(\"Index: \\t\\t\" + str(index))\n",
    "predict(image, label)"
   ]
  },
  {
   "cell_type": "code",
   "execution_count": 35,
   "metadata": {},
   "outputs": [],
   "source": [
    "if False:\n",
    "    saver = tf.train.Saver()\n",
    "    saver.save(session, 'models/chars74k.ckpt')"
   ]
  },
  {
   "cell_type": "code",
   "execution_count": 32,
   "metadata": {},
   "outputs": [
    {
     "name": "stdout",
     "output_type": "stream",
     "text": [
      "INFO:tensorflow:Restoring parameters from models/mnist.ckpt\n"
     ]
    }
   ],
   "source": [
    "if False:\n",
    "    saver = tf.train.Saver()\n",
    "    saver.restore(session, 'models/mnist.ckpt')"
   ]
  },
  {
   "cell_type": "code",
   "execution_count": 40,
   "metadata": {},
   "outputs": [],
   "source": [
    "session.close()"
   ]
  },
  {
   "cell_type": "code",
   "execution_count": null,
   "metadata": {},
   "outputs": [],
   "source": []
  }
 ],
 "metadata": {
  "kernelspec": {
   "display_name": "Python 3",
   "language": "python",
   "name": "python3"
  },
  "language_info": {
   "codemirror_mode": {
    "name": "ipython",
    "version": 3
   },
   "file_extension": ".py",
   "mimetype": "text/x-python",
   "name": "python",
   "nbconvert_exporter": "python",
   "pygments_lexer": "ipython3",
   "version": "3.6.8"
  }
 },
 "nbformat": 4,
 "nbformat_minor": 2
}
